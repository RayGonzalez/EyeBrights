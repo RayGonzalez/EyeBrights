{
 "cells": [
  {
   "cell_type": "code",
   "execution_count": 2,
   "metadata": {
    "collapsed": false
   },
   "outputs": [
    {
     "name": "stdout",
     "output_type": "stream",
     "text": [
      "3.2.0\n"
     ]
    }
   ],
   "source": [
    "from PIL import Image, ImageFont, ImageDraw\n",
    "import matplotlib.pyplot as plt\n",
    "%matplotlib notebook\n",
    "import numpy as np\n",
    "import csv\n",
    "import cv2\n",
    "from cv2 import __version__\n",
    "print __version__"
   ]
  },
  {
   "cell_type": "code",
   "execution_count": 3,
   "metadata": {
    "collapsed": true
   },
   "outputs": [],
   "source": [
    "def find_catchlights(image, threshold):\n",
    "    #thresholding\n",
    "    gray = cv2.cvtColor(image, cv2.COLOR_BGR2GRAY)\n",
    "    _,thresh1 = cv2.threshold(gray,threshold,255,cv2.THRESH_BINARY)\n",
    "    #we use erosion and dilation to remove noise\n",
    "    morphKernel = np.ones((10, 10), np.uint8)\n",
    "    morph = cv2.morphologyEx(thresh1, cv2.MORPH_OPEN, morphKernel)\n",
    "    #find contours\n",
    "    _, contours, hierarchy = cv2.findContours(morph.copy(), cv2.RETR_TREE, cv2.CHAIN_APPROX_SIMPLE)\n",
    "    #find catchlights using hierarchy\n",
    "    largest = [1,2]\n",
    "    catchlights = []\n",
    "    for i in range(3,len(contours)):\n",
    "        if (cv2.contourArea(contours[i]) > cv2.contourArea(contours[largest[0]])):\n",
    "            largest[1] = largest[0]\n",
    "            largest[0] = i\n",
    "        elif (cv2.contourArea(contours[largest[0]]) > cv2.contourArea(contours[i]) > cv2.contourArea(contours[largest[1]])):\n",
    "            largest[1] = i\n",
    "    for i in range(0,len(contours)):\n",
    "        if (hierarchy[0][i][3] == largest[0])or(hierarchy[0][i][3] == largest[1]):\n",
    "            catchlights.append(contours[i])\n",
    "    pupils = [contours[largest[0]],contours[largest[1]]]\n",
    "    return catchlights, pupils"
   ]
  },
  {
   "cell_type": "code",
   "execution_count": 4,
   "metadata": {
    "collapsed": true
   },
   "outputs": [],
   "source": [
    "def get_brightness(image,contours):\n",
    "    gray = cv2.cvtColor(image, cv2.COLOR_BGR2GRAY)\n",
    "    mask = np.zeros(gray.shape,np.uint8)\n",
    "    cv2.drawContours(mask,contours,-1,255,-1)\n",
    "    pixelpoints = np.transpose(np.nonzero(mask))\n",
    "    return cv2.mean(gray,mask = mask)[0],pixelpoints.size"
   ]
  },
  {
   "cell_type": "code",
   "execution_count": 5,
   "metadata": {
    "collapsed": true
   },
   "outputs": [],
   "source": [
    "def check_blink(catchlights):\n",
    "    #simple method\n",
    "    if (len(catchlights) <= 2) or (len(catchlights) >= 6):\n",
    "        return True\n",
    "    return False"
   ]
  },
  {
   "cell_type": "code",
   "execution_count": 7,
   "metadata": {
    "collapsed": false
   },
   "outputs": [],
   "source": [
    "video_name = \"2012-07-16-13.25.47_1\"\n",
    "\n",
    "out = cv2.VideoWriter('videos/' + video_name + \"_out.avi\",cv2.VideoWriter_fourcc('M','J','P','G'), 10, (1920,1080))\n",
    "cap = cv2.VideoCapture('videos/' + video_name + \".mov\")\n",
    "\n",
    "for i in range(int(cap.get(cv2.CAP_PROP_FRAME_COUNT))):\n",
    "    success,frame = cap.read()\n",
    "    if success == False: break\n",
    "    catchlights,pupils = find_catchlights(frame,45)\n",
    "    #draw catchlights\n",
    "    cv2.drawContours(frame, catchlights, -1, (0, 255, 0), 5)\n",
    "    #draw iris, in red when blinking\n",
    "    if check_blink(catchlights): cont_color = (0,0,225)\n",
    "    else: cont_color = (225,0,0)\n",
    "    cv2.drawContours(frame, pupils, -1, cont_color, 5)\n",
    "    #write brightness\n",
    "    font = cv2.FONT_HERSHEY_SIMPLEX\n",
    "    cv2.putText(frame,str(i) + \", \" + str(get_brightness(frame,catchlights)),(10,900), font, 1,(255,255,255),2,cv2.LINE_AA)\n",
    "    #write to output\n",
    "    out.write(frame)\n",
    "\n",
    "cap.release()\n",
    "out.release()\n",
    "    \n",
    "        "
   ]
  },
  {
   "cell_type": "code",
   "execution_count": null,
   "metadata": {
    "collapsed": true
   },
   "outputs": [],
   "source": []
  }
 ],
 "metadata": {
  "anaconda-cloud": {},
  "kernelspec": {
   "display_name": "Python [conda root]",
   "language": "python",
   "name": "conda-root-py"
  },
  "language_info": {
   "codemirror_mode": {
    "name": "ipython",
    "version": 2
   },
   "file_extension": ".py",
   "mimetype": "text/x-python",
   "name": "python",
   "nbconvert_exporter": "python",
   "pygments_lexer": "ipython2",
   "version": "2.7.12"
  }
 },
 "nbformat": 4,
 "nbformat_minor": 1
}
